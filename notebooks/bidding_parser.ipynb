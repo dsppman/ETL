{
 "cells": [
  {
   "cell_type": "code",
   "execution_count": 1,
   "outputs": [],
   "source": [
    "import pandas as pd\n",
    "import numpy as np"
   ],
   "metadata": {
    "collapsed": false,
    "ExecuteTime": {
     "end_time": "2023-10-12T08:47:46.090969700Z",
     "start_time": "2023-10-12T08:47:45.653834700Z"
    }
   },
   "id": "b0bfe15679c57f8c"
  },
  {
   "cell_type": "code",
   "execution_count": 2,
   "outputs": [],
   "source": [
    "import pymysql.cursors\n",
    "\n",
    "# Connect to the database\n",
    "connection = pymysql.connect(host='47.119.179.158',\n",
    "                             user='bidding_select',\n",
    "                             password='qweqwe123',\n",
    "                             database='bidding',\n",
    "                             charset='utf8mb4',\n",
    "                             cursorclass=pymysql.cursors.DictCursor)\n",
    "\n",
    "with connection:\n",
    "    with connection.cursor() as cursor:\n",
    "        query = \"SELECT * FROM data_2023_09 limit 1\"\n",
    "        cursor.execute(query)\n",
    "        bidding = cursor.fetchone()"
   ],
   "metadata": {
    "collapsed": false,
    "ExecuteTime": {
     "end_time": "2023-10-12T08:48:26.616045300Z",
     "start_time": "2023-10-12T08:48:26.560789800Z"
    }
   },
   "id": "7cd473dd44005e5e"
  },
  {
   "cell_type": "code",
   "execution_count": 6,
   "outputs": [
    {
     "data": {
      "text/plain": "{'id': '0000044d89c6467e8a0db5ca22eabf18',\n 'hash': '70633ece6239dec6023166b75fb5e249',\n 'source_id': 4241,\n 'type': 0,\n 'category': 0,\n 'title': '二氧化碳（液态）采购公告',\n 'public_time': 1694620800,\n 'industry': 0,\n 'province_id': 32,\n 'city_id': 0,\n 'source_url': 'http://www.shzbpt.com:80/wxzbgg/30605.jhtml',\n 'section': '公告信息',\n 'snapshot': '<div class=\"Content\" > \\n  \\n  \\n  <p ><strong>新疆神火煤电有限公司 </strong>\\xa0<span>\\xa0</span><span class=\"bookmark\" contenteditable=\"false\" editype=\"text\" name=\"xmxx_xmmc\"  value=\"项目信息.项目名称\">二氧化碳（液态）</span>\\xa0<span>\\xa0</span><span class=\"bookmark\" contenteditable=\"false\" editype=\"text\" name=\"xmxx_zbbh\"  value=\"项目信息.招标编号\">XJSH-20230913-016</span>\\xa0<strong>采购公告</strong></p> \\n  <p>\\xa0 新疆神火煤电有限公司关于\\xa0<span>\\xa0</span><span class=\"bookmark\" contenteditable=\"false\" editype=\"text\" name=\"xmxx_xmmc\"  value=\"项目信息.项目名称\">二氧化碳（液态）</span>\\xa0<span>\\xa0</span><span class=\"bookmark\" contenteditable=\"false\" editype=\"text\" name=\"xmxx_zbbh\"  value=\"项目信息.招标编号\">XJSH-20230913-016</span>\\xa0 ，网上报价公告如下：\\xa0</p> \\n  <p>1、网上报价招标物资明细如下：</p> \\n  <p><span>\\xa0</span></p> \\n  <p >•二氧化碳（液态）</p> \\n  <table border=\"1\" cellpadding=\"0\" cellspacing=\"0\" width=\"90%\"> \\n   <thead> \\n    <tr> \\n    </tr> \\n    <tr> \\n     <th >物料编码</th> \\n     <th >物料名称</th> \\n     <th >规格</th> \\n     <th >型号</th> \\n     <th >采购数量</th> \\n     <th >计量单位</th> \\n     <th >备注</th> \\n     <th >成交数量</th> \\n    </tr> \\n   </thead> \\n   <tbody> \\n    <tr> \\n     <td>2907020020002</td> \\n     <td>二氧化碳</td> \\n     <td>纯度≥99.9%</td> \\n     <td>液态</td> \\n     <td>6000</td> \\n     <td>千克</td> \\n     <td>新疆煤电电力库存组织(08月)新疆煤电电力公司_运行分厂_运行二班6000. ;</td> \\n     <td>\\xa0</td> \\n    </tr> \\n   </tbody> \\n  </table> \\n  <p><br> \\xa0</p> \\n  <p>\\xa0</p> \\n  <p>2、报名截止时间：<span>\\xa0</span><span class=\"bookmark\" contenteditable=\"false\" editype=\"text\" name=\"xmxx_bmjzsj\"  value=\"项目信息.报名截止时间\">2023年09月18日 17:30:00</span>\\xa0\\xa0 ；报价截止时间：\\xa0<span>\\xa0</span><span class=\"bookmark\" contenteditable=\"false\" editype=\"text\" name=\"xmxx_kbsj\"  value=\"项目信息.开标时间\">2023年09月18日 17:30:00</span>\\xa0</p> \\n  <p>3、电子采购平台操作手册详见“门户网站-文件下载”</p> \\n  <p>4、联系方式</p> \\n  <p>业务联系电话 ：<span>\\xa0</span><span class=\"bookmark\" contenteditable=\"false\" editype=\"text\" name=\"xmxx_lxdh\"  value=\"项目信息.联系电话\">0994-6852206</span>\\xa0</p> \\n  <p>联系人：供应部</p> \\n  <p>注意：平台操作事宜联系：0370-6062618</p> \\n  <p ><span>\\xa0</span><span class=\"bookmark\" contenteditable=\"false\" editype=\"text\" name=\"xmxx_nowTimeStr\"  value=\"项目信息.当前日期\">二○二三年九月十三日</span>\\xa0</p>  \\n \\n\\n<br>\\n\\t\\t</div>',\n 'extend': '',\n 'archives': '[]',\n 'version': 0,\n 'create_time': 1694662549,\n 'id2': 95509805}"
     },
     "execution_count": 6,
     "metadata": {},
     "output_type": "execute_result"
    }
   ],
   "source": [
    "bidding"
   ],
   "metadata": {
    "collapsed": false,
    "ExecuteTime": {
     "end_time": "2023-10-12T08:49:07.727110500Z",
     "start_time": "2023-10-12T08:49:07.715094300Z"
    }
   },
   "id": "6b6d87d02b07be4c"
  },
  {
   "cell_type": "code",
   "execution_count": 14,
   "outputs": [],
   "source": [
    "df = pd.DataFrame(bidding, index=[\"id\"])"
   ],
   "metadata": {
    "collapsed": false,
    "ExecuteTime": {
     "end_time": "2023-10-12T08:50:48.229726400Z",
     "start_time": "2023-10-12T08:50:48.223836700Z"
    }
   },
   "id": "2abfe09ff2364456"
  },
  {
   "cell_type": "code",
   "execution_count": 65,
   "outputs": [
    {
     "data": {
      "text/plain": "                                  id                              hash  \\\nid  0000044d89c6467e8a0db5ca22eabf18  70633ece6239dec6023166b75fb5e249   \n\n    source_id  type  category         title  public_time  industry  \\\nid       4241     0         0  二氧化碳（液态）采购公告   1694620800         0   \n\n    province_id  city_id                                   source_url section  \\\nid           32        0  http://www.shzbpt.com:80/wxzbgg/30605.jhtml    公告信息   \n\n                                             snapshot extend archives  \\\nid  <div class=\"Content\" > \\n  \\n  \\n  <p ><strong...              []   \n\n    version  create_time       id2  \nid        0   1694662549  95509805  ",
      "text/html": "<div>\n<style scoped>\n    .dataframe tbody tr th:only-of-type {\n        vertical-align: middle;\n    }\n\n    .dataframe tbody tr th {\n        vertical-align: top;\n    }\n\n    .dataframe thead th {\n        text-align: right;\n    }\n</style>\n<table border=\"1\" class=\"dataframe\">\n  <thead>\n    <tr style=\"text-align: right;\">\n      <th></th>\n      <th>id</th>\n      <th>hash</th>\n      <th>source_id</th>\n      <th>type</th>\n      <th>category</th>\n      <th>title</th>\n      <th>public_time</th>\n      <th>industry</th>\n      <th>province_id</th>\n      <th>city_id</th>\n      <th>source_url</th>\n      <th>section</th>\n      <th>snapshot</th>\n      <th>extend</th>\n      <th>archives</th>\n      <th>version</th>\n      <th>create_time</th>\n      <th>id2</th>\n    </tr>\n  </thead>\n  <tbody>\n    <tr>\n      <th>id</th>\n      <td>0000044d89c6467e8a0db5ca22eabf18</td>\n      <td>70633ece6239dec6023166b75fb5e249</td>\n      <td>4241</td>\n      <td>0</td>\n      <td>0</td>\n      <td>二氧化碳（液态）采购公告</td>\n      <td>1694620800</td>\n      <td>0</td>\n      <td>32</td>\n      <td>0</td>\n      <td>http://www.shzbpt.com:80/wxzbgg/30605.jhtml</td>\n      <td>公告信息</td>\n      <td>&lt;div class=\"Content\" &gt; \\n  \\n  \\n  &lt;p &gt;&lt;strong...</td>\n      <td></td>\n      <td>[]</td>\n      <td>0</td>\n      <td>1694662549</td>\n      <td>95509805</td>\n    </tr>\n  </tbody>\n</table>\n</div>"
     },
     "execution_count": 65,
     "metadata": {},
     "output_type": "execute_result"
    }
   ],
   "source": [
    "df"
   ],
   "metadata": {
    "collapsed": false,
    "ExecuteTime": {
     "end_time": "2023-10-12T10:11:00.827598500Z",
     "start_time": "2023-10-12T10:11:00.827092200Z"
    }
   },
   "id": "cb891fc59562ec8b"
  }
 ],
 "metadata": {
  "kernelspec": {
   "display_name": "Python 3",
   "language": "python",
   "name": "python3"
  },
  "language_info": {
   "codemirror_mode": {
    "name": "ipython",
    "version": 2
   },
   "file_extension": ".py",
   "mimetype": "text/x-python",
   "name": "python",
   "nbconvert_exporter": "python",
   "pygments_lexer": "ipython2",
   "version": "2.7.6"
  }
 },
 "nbformat": 4,
 "nbformat_minor": 5
}
